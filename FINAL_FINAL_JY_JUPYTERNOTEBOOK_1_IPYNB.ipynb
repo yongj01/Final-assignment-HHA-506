{
  "nbformat": 4,
  "nbformat_minor": 0,
  "metadata": {
    "colab": {
      "name": "FINAL FINAL JY_JUPYTERNOTEBOOK_1.IPYNB",
      "provenance": [],
      "collapsed_sections": [],
      "authorship_tag": "ABX9TyOCT2hUG0rN9nCbasDXz/9v",
      "include_colab_link": true
    },
    "kernelspec": {
      "name": "python3",
      "display_name": "Python 3"
    },
    "language_info": {
      "name": "python"
    }
  },
  "cells": [
    {
      "cell_type": "markdown",
      "metadata": {
        "id": "view-in-github",
        "colab_type": "text"
      },
      "source": [
        "<a href=\"https://colab.research.google.com/github/yongj01/Final-assignment-HHA-506/blob/main/FINAL_FINAL_JY_JUPYTERNOTEBOOK_1_IPYNB.ipynb\" target=\"_parent\"><img src=\"https://colab.research.google.com/assets/colab-badge.svg\" alt=\"Open In Colab\"/></a>"
      ]
    },
    {
      "cell_type": "code",
      "metadata": {
        "id": "HTIUEG3INbsK"
      },
      "source": [
        "import pandas as pd\n",
        "import numpy as np\n",
        "import pandas as pd \n",
        "import numpy as np \n",
        "import seaborn as sns \n",
        "import matplotlib.pyplot as plt\n",
        "import plotly.express as px\n",
        "\n",
        "print('cell successful')"
      ],
      "execution_count": null,
      "outputs": []
    },
    {
      "cell_type": "code",
      "metadata": {
        "id": "L9li159eWw_P"
      },
      "source": [
        "# This chosen dataset illustrates the total number of child victims in each state in the United States.  The victims are categorized in columns according to their integral age including unborn, and those less than one year of age.  The rates of child victims per 1000 children of each age are also listed. \n",
        "\n",
        "url1 = 'https://healthdata.gov/resource/xn3e-yyaj.csv'"
      ],
      "execution_count": null,
      "outputs": []
    },
    {
      "cell_type": "markdown",
      "metadata": {
        "id": "9qXYW1Dqf94j"
      },
      "source": [
        "This chosen dataset illustrates the total number of child victims in each state in the United States.  The victims are categorized in columns according to their integral age including unborn, and those less than one year of age.  The rates of child victims per 1000 children of each age are also listed.  "
      ]
    },
    {
      "cell_type": "code",
      "metadata": {
        "id": "C2Z_pE8PXQI0"
      },
      "source": [
        "df1 = pd.read_csv(url1)\n",
        "df1"
      ],
      "execution_count": null,
      "outputs": []
    },
    {
      "cell_type": "markdown",
      "metadata": {
        "id": "XW4geej5325z"
      },
      "source": [
        "_1 is Age <1 and 1_1 is Age 1\n",
        "\n",
        "\n",
        "\n",
        "\n"
      ]
    },
    {
      "cell_type": "code",
      "metadata": {
        "id": "N3lVyjHsUVXf"
      },
      "source": [
        "# MISSING DATA\n",
        "# df1.isnull() returns all the columns with missing data\n",
        "df1.isnull()"
      ],
      "execution_count": null,
      "outputs": []
    },
    {
      "cell_type": "code",
      "metadata": {
        "id": "KN-_wTk-qNLe"
      },
      "source": [
        "null = df1.isna().sum()/len(df1)\n",
        "null[null > 0].sort_values()"
      ],
      "execution_count": null,
      "outputs": []
    },
    {
      "cell_type": "code",
      "metadata": {
        "id": "0fDN8pi1d-n2"
      },
      "source": [
        "df1.head(5)"
      ],
      "execution_count": null,
      "outputs": []
    },
    {
      "cell_type": "code",
      "metadata": {
        "id": "1QOGpVboeKmO"
      },
      "source": [
        "df1.tail(5)"
      ],
      "execution_count": null,
      "outputs": []
    },
    {
      "cell_type": "code",
      "metadata": {
        "id": "WqckAqNieZaS"
      },
      "source": [
        "df1.sample(5)"
      ],
      "execution_count": null,
      "outputs": []
    },
    {
      "cell_type": "code",
      "metadata": {
        "id": "Ze-7FqzgBpCd"
      },
      "source": [
        "# This shows the total victims in each state\n",
        "\n",
        "df1[['state', '_total_victims']].value_counts()"
      ],
      "execution_count": null,
      "outputs": []
    },
    {
      "cell_type": "code",
      "metadata": {
        "id": "FvBw9NExgs8C"
      },
      "source": [
        "# This group adds the victims of ages 1,2, and 3\n",
        "\n",
        "df1['age_1_3'] = df1['_1_1'] + df1['_2'] + df1['_3']\n",
        "df1\n"
      ],
      "execution_count": null,
      "outputs": []
    },
    {
      "cell_type": "code",
      "metadata": {
        "id": "iUY4VGrrg2vB"
      },
      "source": [
        "# This group adds the victims of ages 4,5, and 6\n",
        "\n",
        "df1['age_4_6'] = df1['_4'] + df1['_5'] + df1['_6']\n",
        "df1\n"
      ],
      "execution_count": null,
      "outputs": []
    },
    {
      "cell_type": "code",
      "metadata": {
        "id": "O-wdUfE-eddk"
      },
      "source": [
        "df1.shape"
      ],
      "execution_count": null,
      "outputs": []
    },
    {
      "cell_type": "code",
      "metadata": {
        "id": "5oY27MwQej_O"
      },
      "source": [
        "df1.info()"
      ],
      "execution_count": null,
      "outputs": []
    },
    {
      "cell_type": "code",
      "metadata": {
        "id": "3JyikSc0fP3Y"
      },
      "source": [
        "df1.describe()"
      ],
      "execution_count": null,
      "outputs": []
    },
    {
      "cell_type": "code",
      "metadata": {
        "id": "BlY3qHK1fvYV"
      },
      "source": [
        "# This shows the mean, standard deviation and quarterly percentiles of victims in all states\n",
        "\n",
        "df1['_total_victims'].describe()"
      ],
      "execution_count": null,
      "outputs": []
    },
    {
      "cell_type": "code",
      "metadata": {
        "id": "pO5fexAOfAcf"
      },
      "source": [
        "# The \"National\" or total value of states was removed to provide a more comparable bar chart \n",
        "\n",
        "df1 = df1[df1['state'] != 'National']\n"
      ],
      "execution_count": null,
      "outputs": []
    },
    {
      "cell_type": "code",
      "metadata": {
        "id": "NRNwOtL5kkg8"
      },
      "source": [
        "# A bar chart is visualized here with the total victims in each state\n",
        "# The \"National\" or total value of states was removed to provide a more comparable bar chart \n",
        "\n",
        "sns.barplot(data=df1, x='state', y=\"_total_victims\")\n",
        "sns.set(rc={'figure.figsize':(20,20)})\n",
        "vis1 = sns.barplot(x='state', y='_total_victims', data=df1)\n",
        "vis1.set_xticklabels(vis1.get_xticklabels(), rotation=90)"
      ],
      "execution_count": null,
      "outputs": []
    },
    {
      "cell_type": "markdown",
      "metadata": {
        "id": "IKdLiYh4WSTS"
      },
      "source": [
        "California, New York, and Texas had the highest number of child victims\n",
        "This is probably due to the high population and density in these states\n"
      ]
    },
    {
      "cell_type": "code",
      "metadata": {
        "id": "42XUOSw-_V5X"
      },
      "source": [
        "df1 = df1[df1['state'] != 'National']"
      ],
      "execution_count": null,
      "outputs": []
    },
    {
      "cell_type": "code",
      "metadata": {
        "id": "ACy0ICgy6bDQ"
      },
      "source": [
        "# This 3D visualization compares the unborn victims to total victims for each state\n",
        "# Interestingly, South Carolina has the highest number of unborn victims, but not the highest total victims\n",
        "# As expected, California, New York, and Texas has the highest number of total victims\n",
        "\n",
        "fig = px.scatter_3d(df1, x='state', y='_unborn', z='_total_victims', color='state')\n",
        "fig.show()"
      ],
      "execution_count": null,
      "outputs": []
    },
    {
      "cell_type": "markdown",
      "metadata": {
        "id": "IciksjoQWkiI"
      },
      "source": [
        "Transformation 1\n"
      ]
    },
    {
      "cell_type": "code",
      "metadata": {
        "id": "Iz9j4sOlIXQt"
      },
      "source": [
        "# This transformation separates states into categories of high, medium and low number of total victims\n",
        "def rule1(row):\n",
        "    if row['_total_victims'] >= 10000 :\n",
        "        return 'HIGH'\n",
        "    elif row['_total_victims'] < 10000:\n",
        "        return 'MEDIUM'\n",
        "    elif row['_total_victims'] < 5000:\n",
        "        return 'LOW'"
      ],
      "execution_count": null,
      "outputs": []
    },
    {
      "cell_type": "code",
      "metadata": {
        "id": "1yvtWC5_IrEn"
      },
      "source": [
        "df1['_total_victims_mod2'] = df1.apply(rule1, 1)"
      ],
      "execution_count": null,
      "outputs": []
    },
    {
      "cell_type": "code",
      "metadata": {
        "id": "dyvkGrJVJEOA"
      },
      "source": [
        "# This chart shows each state with the total victims and the category\n",
        "\n",
        "df1[['_total_victims', \"_total_victims_mod2\", 'state']]"
      ],
      "execution_count": null,
      "outputs": []
    },
    {
      "cell_type": "markdown",
      "metadata": {
        "id": "hXyib1rLIXHk"
      },
      "source": [
        "Transformation 2"
      ]
    },
    {
      "cell_type": "code",
      "metadata": {
        "id": "6rJ5qFmmL20V"
      },
      "source": [
        "# This transformation categorizes states according to their region\n",
        "# Here I am assigning individual states to their respective regions\n",
        "\n",
        "westcoaststates = ['California', 'Oregon', 'Washington', 'Nevada', 'Arizona', 'Alaska']\n",
        "eastcoaststates = ['New York', 'Maine', 'Massachusetts', 'Connecticut', 'New Hampshire', 'Vermont', 'New Jersey', 'North Carolina', 'South Carolina']\n",
        "centralstates = ['Illinois','Indiana', 'Ohio', 'Iowa', 'Oklahoma', 'Minnesota', 'Kansas','Wisconsin', 'Michigan']\n",
        "mountainstates = ['Wyoming','Montana', 'Colorado', 'Idaho','New Mexico','Nebraska', 'Utah']\n",
        "southernstates = ['Texas', 'Florida', 'Alabama', 'Louisiana', 'Georgia', 'Louisiana', 'Missouri', 'Puerto Rico', 'Virginia']"
      ],
      "execution_count": null,
      "outputs": []
    },
    {
      "cell_type": "code",
      "metadata": {
        "id": "wdpq4kjdnVRv"
      },
      "source": [
        "def rule2(row):\n",
        "    if row['state'] in westcoaststates:\n",
        "        return 'WestCoast'\n",
        "    elif row['state'] in eastcoaststates:\n",
        "        return 'EastCoast'\n",
        "    elif row['state'] in centralstates:\n",
        "        return 'Central'\n",
        "    elif row['state'] in southernstates:\n",
        "        return 'South'\n",
        "    elif row['state'] in mountainstates:\n",
        "        return 'Mountain'\n",
        "    else:\n",
        "        return row ['state']\n",
        "df1['rule2_mod'] = df1.apply(rule2, 1)"
      ],
      "execution_count": null,
      "outputs": []
    },
    {
      "cell_type": "code",
      "metadata": {
        "id": "D0NIY3zzPamX"
      },
      "source": [
        "df1 = df1[df1['state'] != 'Reporting States']"
      ],
      "execution_count": null,
      "outputs": []
    },
    {
      "cell_type": "code",
      "metadata": {
        "id": "PLNUz3B_HFbb"
      },
      "source": [
        "# This shows each state with its respective region with the transformation\n",
        "df1[['rule2_mod', \"state\"]]"
      ],
      "execution_count": null,
      "outputs": []
    }
  ]
}